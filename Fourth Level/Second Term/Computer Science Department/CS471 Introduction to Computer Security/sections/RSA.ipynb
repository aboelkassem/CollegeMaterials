{
 "cells": [
  {
   "cell_type": "code",
   "execution_count": 15,
   "metadata": {},
   "outputs": [],
   "source": [
    "import math\n",
    "\n"
   ]
  },
  {
   "cell_type": "code",
   "execution_count": 2,
   "metadata": {},
   "outputs": [],
   "source": [
    "# compute D ==> e^-1\n",
    "def mod (e,fi_of_n,z = 1):\n",
    "    for i in range(1,fi_of_n,1):\n",
    "        num = i*e\n",
    "        if(num%fi_of_n) == 1:\n",
    "            out = i\n",
    "    return out"
   ]
  },
  {
   "cell_type": "code",
   "execution_count": 18,
   "metadata": {},
   "outputs": [],
   "source": [
    "p = 13\n",
    "q = 61\n"
   ]
  },
  {
   "cell_type": "code",
   "execution_count": 19,
   "metadata": {},
   "outputs": [
    {
     "name": "stdout",
     "output_type": "stream",
     "text": [
      "p :  13\n",
      "q :  61\n"
     ]
    }
   ],
   "source": [
    "\n",
    "print(\"p : \",p)\n",
    "print(\"q : \",q)"
   ]
  },
  {
   "cell_type": "code",
   "execution_count": 27,
   "metadata": {},
   "outputs": [
    {
     "name": "stdout",
     "output_type": "stream",
     "text": [
      "n :  793\n",
      "fi_of_n :  720\n"
     ]
    }
   ],
   "source": [
    "\n",
    "n = p*q\n",
    "fi_of_n = (p-1)*(q-1)\n",
    "\n",
    "print(\"n : \",n)\n",
    "print(\"fi_of_n : \",fi_of_n)\n"
   ]
  },
  {
   "cell_type": "code",
   "execution_count": 28,
   "metadata": {},
   "outputs": [],
   "source": [
    "\n",
    "#e = 5;\n",
    "\n",
    "# compute e\n",
    "for i in range(2,fi_of_n):\n",
    "    if math.gcd(i,fi_of_n) == 1:\n",
    "        e = i\n",
    "        break"
   ]
  },
  {
   "cell_type": "code",
   "execution_count": 29,
   "metadata": {},
   "outputs": [],
   "source": [
    "\n",
    "d = mod(e,fi_of_n)   #(e**-1)% fi_of_n\n",
    "\n"
   ]
  },
  {
   "cell_type": "code",
   "execution_count": 30,
   "metadata": {},
   "outputs": [
    {
     "name": "stdout",
     "output_type": "stream",
     "text": [
      "e :  7\n",
      "d :  103\n"
     ]
    }
   ],
   "source": [
    "\n",
    "print(\"e : \",e)\n",
    "print(\"d : \",d)"
   ]
  },
  {
   "cell_type": "code",
   "execution_count": 24,
   "metadata": {},
   "outputs": [],
   "source": [
    "\n",
    "\n",
    "def RSA_Encryption(message):\n",
    "    for i in message:\n",
    "        i = ord(i)\n",
    "        c = (i**e)% n\n",
    "        C.append(chr(c))\n",
    "    return C\n",
    "\n",
    "def RSA_decryption(Cipher):\n",
    "    for i in Cipher:\n",
    "        i = ord(i)\n",
    "        t = (i**d) % n\n",
    "        T.append(chr(t))\n",
    "    return T\n"
   ]
  },
  {
   "cell_type": "code",
   "execution_count": 32,
   "metadata": {},
   "outputs": [
    {
     "name": "stdout",
     "output_type": "stream",
     "text": [
      "Enter a Character : Ali\n"
     ]
    }
   ],
   "source": [
    "\n",
    "#m = int(input(\"Enter a number\"))\n",
    "#c = (m**e)% n\n",
    "#t = (c**d) % n\n",
    "\n",
    "m = input(\"Enter a Character : \")\n",
    "C = []\n",
    "T = []\n"
   ]
  },
  {
   "cell_type": "code",
   "execution_count": 17,
   "metadata": {},
   "outputs": [
    {
     "name": "stdout",
     "output_type": "stream",
     "text": [
      "you Entered :  احمد\n",
      "your cipher text is :  ᓆⴅҮᅢ\n",
      "your text again  is :  احمد\n"
     ]
    }
   ],
   "source": [
    "\n",
    "\n",
    "print(\"you Entered : \",m)\n",
    "C = RSA_Encryption(m)\n",
    "T = RSA_decryption(C)\n",
    "\n",
    "\n",
    "\n",
    "print(\"your cipher text is : \",\"\".join(C))\n",
    "print(\"your text again  is : \",\"\".join(T))\n",
    "\n",
    "\n"
   ]
  },
  {
   "cell_type": "code",
   "execution_count": 33,
   "metadata": {},
   "outputs": [
    {
     "name": "stdout",
     "output_type": "stream",
     "text": [
      "you Entered :  Ali\n",
      "your cipher text is :  ɉl\\\n",
      "your text again  is :  Ali\n"
     ]
    }
   ],
   "source": [
    "\n",
    "\n",
    "print(\"you Entered : \",m)\n",
    "C = RSA_Encryption(m)\n",
    "T = RSA_decryption(C)\n",
    "\n",
    "\n",
    "\n",
    "print(\"your cipher text is : \",\"\".join(C))\n",
    "print(\"your text again  is : \",\"\".join(T))\n",
    "\n",
    "\n"
   ]
  },
  {
   "cell_type": "code",
   "execution_count": null,
   "metadata": {},
   "outputs": [],
   "source": []
  }
 ],
 "metadata": {
  "kernelspec": {
   "display_name": "Python 3",
   "language": "python",
   "name": "python3"
  },
  "language_info": {
   "codemirror_mode": {
    "name": "ipython",
    "version": 3
   },
   "file_extension": ".py",
   "mimetype": "text/x-python",
   "name": "python",
   "nbconvert_exporter": "python",
   "pygments_lexer": "ipython3",
   "version": "3.6.4"
  }
 },
 "nbformat": 4,
 "nbformat_minor": 2
}
