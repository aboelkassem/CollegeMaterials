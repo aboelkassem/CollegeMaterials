{
 "cells": [
  {
   "cell_type": "code",
   "execution_count": 2,
   "metadata": {},
   "outputs": [],
   "source": [
    "def encrypt(text,s):\n",
    "    result = \"\"\n",
    "   # transverse the plain text\n",
    "    for i in range(len(text)):\n",
    "        char = text[i]\n",
    "      # Encrypt uppercase characters in plain text\n",
    "      \n",
    "        if (char.isupper()):\n",
    "            result += chr((ord(char) + s-65) % 26 + 65)\n",
    "      # Encrypt lowercase characters in plain text\n",
    "        else:\n",
    "            result += chr((ord(char) + s - 97) % 26 + 97)\n",
    "    return result\n"
   ]
  },
  {
   "cell_type": "code",
   "execution_count": 3,
   "metadata": {},
   "outputs": [],
   "source": [
    "#check the above function\n",
    "text = \"CEASER CIPHER DEMO\"\n",
    "s = 4\n",
    "\n"
   ]
  },
  {
   "cell_type": "code",
   "execution_count": 5,
   "metadata": {},
   "outputs": [
    {
     "name": "stdout",
     "output_type": "stream",
     "text": [
      "Plain Text : CEASER CIPHER DEMO\n",
      "Shift pattern : 4\n",
      "Cipher: GIEWIVrGMTLIVrHIQS\n"
     ]
    }
   ],
   "source": [
    "print (\"Plain Text : \" + text)\n",
    "print (\"Shift pattern : \" + str(s))\n",
    "print (\"Cipher: \" + encrypt(text,s))"
   ]
  },
  {
   "cell_type": "code",
   "execution_count": null,
   "metadata": {},
   "outputs": [],
   "source": []
  },
  {
   "cell_type": "code",
   "execution_count": null,
   "metadata": {},
   "outputs": [],
   "source": []
  },
  {
   "cell_type": "code",
   "execution_count": null,
   "metadata": {},
   "outputs": [],
   "source": []
  },
  {
   "cell_type": "code",
   "execution_count": null,
   "metadata": {},
   "outputs": [],
   "source": []
  },
  {
   "cell_type": "code",
   "execution_count": null,
   "metadata": {},
   "outputs": [],
   "source": []
  },
  {
   "cell_type": "markdown",
   "metadata": {},
   "source": [
    "# Implementation of Affine Cipher in Python\n",
    " \n",
    "### Extended Euclidean Algorithm for finding modular inverse"
   ]
  },
  {
   "cell_type": "code",
   "execution_count": 2,
   "metadata": {},
   "outputs": [],
   "source": [
    "# compute D ==> a^-1\n",
    "def mod (a,n,z = 1):\n",
    "    for i in range(1,n,1):\n",
    "        num = i*a\n",
    "        if(num%n) == 1:\n",
    "            out = i\n",
    "    return out"
   ]
  },
  {
   "cell_type": "markdown",
   "metadata": {},
   "source": [
    "## Affine cipher encryption function\n",
    "### Returns the cipher text"
   ]
  },
  {
   "cell_type": "code",
   "execution_count": 3,
   "metadata": {},
   "outputs": [],
   "source": [
    "\n",
    "def affine_encrypt(text, key):\n",
    "    '''\n",
    "    C = (a*P + b) % 26\n",
    "    '''\n",
    "    return ''.join([ chr((( key[0]*(ord(t) - ord('A')) + key[1] ) % 26)\n",
    "                  + ord('A')) for t in text.upper().replace(' ', '') ])\n",
    " \n",
    " "
   ]
  },
  {
   "cell_type": "markdown",
   "metadata": {},
   "source": [
    "## Affine cipher decryption function\n",
    "### Returns original text"
   ]
  },
  {
   "cell_type": "code",
   "execution_count": 4,
   "metadata": {},
   "outputs": [],
   "source": [
    "\n",
    "def affine_decrypt(cipher, key):\n",
    "    '''\n",
    "    P = (a^-1 * (C - b)) % 26\n",
    "    '''\n",
    "    m = []\n",
    "    for c in cipher:\n",
    "        m.append(chr((( mod(key[0], 26)*(ord(c) - ord('A') - key[1]))% 26) + ord('A')))\n",
    "        \n",
    "       \n",
    "    return ''.join(m)\n",
    " "
   ]
  },
  {
   "cell_type": "code",
   "execution_count": 5,
   "metadata": {},
   "outputs": [],
   "source": [
    "# Driver Code to test the above functions\n",
    "def main():\n",
    "    # declaring text and key\n",
    "    # text = 'AFFINE CIPHER'\n",
    "    # key = [17, 20]\n",
    "    text = input('Enter your text : ')\n",
    "    key = []\n",
    "    key.append(int(input('Enter a  : ')))\n",
    "    key.append(int(input('Enter b  : ')))\n",
    "   \n",
    " \n",
    "    # calling encryption function\n",
    "    affine_encrypted_text = affine_encrypt(text, key)\n",
    " \n",
    "    print('Encrypted Text: {}'.format( affine_encrypted_text ))\n",
    " \n",
    "    # calling decryption function\n",
    "    print('Decrypted Text: {}'.format\n",
    "    ( affine_decrypt(affine_encrypted_text, key) ))\n",
    " "
   ]
  },
  {
   "cell_type": "code",
   "execution_count": 6,
   "metadata": {},
   "outputs": [
    {
     "name": "stdout",
     "output_type": "stream",
     "text": [
      "Enter your text : HOT\\\n",
      "Enter a  : 7\n",
      "Enter b  : 3\n",
      "Encrypted Text: AXGK\n",
      "Decrypted Text: HOTB\n"
     ]
    }
   ],
   "source": [
    "\n",
    " \n",
    "if __name__ == '__main__':\n",
    "    main()\n",
    "# This code is contributed by\n",
    "# Bhushan Borole"
   ]
  },
  {
   "cell_type": "code",
   "execution_count": null,
   "metadata": {},
   "outputs": [],
   "source": []
  }
 ],
 "metadata": {
  "kernelspec": {
   "display_name": "Python 3",
   "language": "python",
   "name": "python3"
  },
  "language_info": {
   "codemirror_mode": {
    "name": "ipython",
    "version": 3
   },
   "file_extension": ".py",
   "mimetype": "text/x-python",
   "name": "python",
   "nbconvert_exporter": "python",
   "pygments_lexer": "ipython3",
   "version": "3.6.4"
  }
 },
 "nbformat": 4,
 "nbformat_minor": 2
}
